{
 "cells": [
  {
   "cell_type": "code",
   "execution_count": null,
   "metadata": {},
   "outputs": [],
   "source": [
    "import pandas as pd \n",
    "df = pd.read_csv('insurance_claim_status.csv') \n",
    "df.head()\n",
    "\n",
    "from ludwig.api import LudwigModel \n",
    "model = LudwigModel(config=\"model_definition.yaml\") \n",
    "model.train(dataset=df)\n",
    "\n",
    "predictions, _ = model.predict(dataset='insurance_claim_status.csv')\n",
    "predictions.head()\n",
    "\n",
    "from ludwig.visualize import compare_performance\n",
    "eval_stats, _, _ = model.evaluate(dataset='insurance_claim_status.csv')\n",
    "compare_performance([eval_stats])\n"
   ]
  },
  {
   "cell_type": "code",
   "execution_count": null,
   "metadata": {},
   "outputs": [],
   "source": []
  },
  {
   "cell_type": "code",
   "execution_count": null,
   "metadata": {},
   "outputs": [],
   "source": []
  },
  {
   "cell_type": "code",
   "execution_count": null,
   "metadata": {},
   "outputs": [],
   "source": [
    "\n"
   ]
  }
 ],
 "metadata": {
  "kernelspec": {
   "display_name": "Python 3",
   "language": "python",
   "name": "python3"
  },
  "language_info": {
   "codemirror_mode": {
    "name": "ipython",
    "version": 3
   },
   "file_extension": ".py",
   "mimetype": "text/x-python",
   "name": "python",
   "nbconvert_exporter": "python",
   "pygments_lexer": "ipython3",
   "version": "3.11.9"
  }
 },
 "nbformat": 4,
 "nbformat_minor": 2
}
